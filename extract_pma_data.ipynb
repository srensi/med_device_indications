{
 "cells": [
  {
   "cell_type": "markdown",
   "metadata": {},
   "source": [
    "# PMA Summary Data Extraction\n",
    "\n",
    "This notebook contains code stubs for extracting PMA statements sumaries from the the FDA release."
   ]
  },
  {
   "cell_type": "code",
   "execution_count": null,
   "metadata": {},
   "outputs": [],
   "source": [
    "path_to_pma_data = ''"
   ]
  },
  {
   "cell_type": "markdown",
   "metadata": {},
   "source": [
    "#### Pandas"
   ]
  },
  {
   "cell_type": "code",
   "execution_count": null,
   "metadata": {},
   "outputs": [],
   "source": [
    "import pandas\n",
    "\n",
    "df = pandas.read_csv(path_to_pma_data, sep='|', encoding = \"ISO-8859-1\", dtype=str)\n",
    "\n",
    "dataset = dict()\n",
    "for row in df.itertuples():\n",
    "    pma_id = str(row.PMANUMBER) + '_' + str(row.SUPPLEMENTNUMBER)\n",
    "    ao_statement = row.AOSTATEMENT    \n",
    "    dataset[pma_id] = ao_statement"
   ]
  },
  {
   "cell_type": "code",
   "execution_count": null,
   "metadata": {},
   "outputs": [],
   "source": [
    "list(dataset.items())[:10]"
   ]
  },
  {
   "cell_type": "markdown",
   "metadata": {},
   "source": [
    "#### Base Python"
   ]
  },
  {
   "cell_type": "code",
   "execution_count": null,
   "metadata": {},
   "outputs": [],
   "source": [
    "with open(path_to_pma_data, 'r', encoding = \"ISO-8859-1\") as f:\n",
    "    data = [i.strip().split('|') for i in f.readlines()[1:]]\n",
    "\n",
    "dataset = dict()\n",
    "for row in data:\n",
    "    pma_id = str(row[0]) + '_' + str(row[1])\n",
    "    ao_statement = row[-1]   \n",
    "    dataset[pma_id] = ao_statement"
   ]
  },
  {
   "cell_type": "code",
   "execution_count": null,
   "metadata": {},
   "outputs": [],
   "source": [
    "list(dataset.items())[:10]"
   ]
  }
 ],
 "metadata": {
  "kernelspec": {
   "display_name": "Python 3",
   "language": "python",
   "name": "python3"
  },
  "language_info": {
   "codemirror_mode": {
    "name": "ipython",
    "version": 3
   },
   "file_extension": ".py",
   "mimetype": "text/x-python",
   "name": "python",
   "nbconvert_exporter": "python",
   "pygments_lexer": "ipython3",
   "version": "3.6.5"
  }
 },
 "nbformat": 4,
 "nbformat_minor": 4
}
